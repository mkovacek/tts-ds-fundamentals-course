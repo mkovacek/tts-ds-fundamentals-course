{
 "cells": [
  {
   "cell_type": "code",
   "execution_count": 4,
   "id": "47c0d789",
   "metadata": {},
   "outputs": [],
   "source": [
    "# 1. Accept the user's first and last name and print them in reverse order with a space between them\n",
    "def reverse_names():\n",
    "    fname = input('Please enter your first name: ')\n",
    "    lname = input('Please enter your last name: ')\n",
    "    \n",
    "    return lname + \" \" + fname"
   ]
  },
  {
   "cell_type": "code",
   "execution_count": 5,
   "id": "562b0279",
   "metadata": {},
   "outputs": [
    {
     "name": "stdout",
     "output_type": "stream",
     "text": [
      "Please enter your first name: Elena\n",
      "Please enter your last name: Smith\n"
     ]
    },
    {
     "data": {
      "text/plain": [
       "'Smith Elena'"
      ]
     },
     "execution_count": 5,
     "metadata": {},
     "output_type": "execute_result"
    }
   ],
   "source": [
    "reverse_names()"
   ]
  },
  {
   "cell_type": "code",
   "execution_count": 15,
   "id": "8c7e78f6",
   "metadata": {},
   "outputs": [],
   "source": [
    "# 2. Accept an integer (n) input from the user and compute the value of n+nn+nnn. \n",
    "# For example if n=4 then n + nn + nnn = 4 + 44 + 444 = 492\n",
    "def fun_addition():\n",
    "    x = input('Please enter a number: ')\n",
    "    return int(x) + int(x+x) + int(x+x+x)"
   ]
  },
  {
   "cell_type": "code",
   "execution_count": 16,
   "id": "4600ca7c",
   "metadata": {},
   "outputs": [
    {
     "name": "stdout",
     "output_type": "stream",
     "text": [
      "Please enter a number: 1\n"
     ]
    },
    {
     "data": {
      "text/plain": [
       "123"
      ]
     },
     "execution_count": 16,
     "metadata": {},
     "output_type": "execute_result"
    }
   ],
   "source": [
    "fun_addition()"
   ]
  },
  {
   "cell_type": "code",
   "execution_count": 17,
   "id": "7336d946",
   "metadata": {},
   "outputs": [],
   "source": [
    "# 3. Ask the user \"What country are you from?\" then print the following statement: \n",
    "#\"I have heard that [input] is a beautiful country!\"\n",
    "def compliment():\n",
    "    country = input('What country are you from?: ')\n",
    "    return \"I have heard that \" + country + \" is a beautiful country!\""
   ]
  },
  {
   "cell_type": "code",
   "execution_count": 18,
   "id": "257f2566",
   "metadata": {},
   "outputs": [
    {
     "name": "stdout",
     "output_type": "stream",
     "text": [
      "What country are you from?: booty\n"
     ]
    },
    {
     "data": {
      "text/plain": [
       "'I have heard that booty is a beautiful country!'"
      ]
     },
     "execution_count": 18,
     "metadata": {},
     "output_type": "execute_result"
    }
   ],
   "source": [
    "compliment()"
   ]
  },
  {
   "cell_type": "code",
   "execution_count": 20,
   "id": "96720802",
   "metadata": {},
   "outputs": [],
   "source": [
    "# 4. What is the output of the following Python code\n",
    "#    x = 10\n",
    "#    y = 50\n",
    "#    if (x ** 2 > 100 and y < 100):\n",
    "#       print(x, y)\n",
    "\n",
    "# Nothing is printed"
   ]
  },
  {
   "cell_type": "code",
   "execution_count": 21,
   "id": "087a472e",
   "metadata": {},
   "outputs": [
    {
     "name": "stdout",
     "output_type": "stream",
     "text": [
      "[10, 20, 30, 40]\n",
      "[10, 20, 30, 40]\n"
     ]
    }
   ],
   "source": [
    "# 5. What is the output of the following addition (+) operator, and why does this code chunk execute this way?\n",
    "a = [10, 20]\n",
    "b = a\n",
    "b += [30, 40]\n",
    "print(a)\n",
    "print(b)\n",
    "# The output for both a and b is [10, 20, 30, 40]. This is because python is a dynamic programming language, \n",
    "# and the variables have been set equal to each other, meaning when one changes, so does the other. "
   ]
  },
  {
   "cell_type": "code",
   "execution_count": 22,
   "id": "8e968c3b",
   "metadata": {},
   "outputs": [
    {
     "name": "stdout",
     "output_type": "stream",
     "text": [
      "2\n"
     ]
    }
   ],
   "source": [
    "# 6. What is the output of the following code and what arithmetic operators is being used here? print(2%6)\n",
    "# The output is 2, and the operator is called modulo."
   ]
  },
  {
   "cell_type": "code",
   "execution_count": 23,
   "id": "99820d49",
   "metadata": {},
   "outputs": [
    {
     "name": "stdout",
     "output_type": "stream",
     "text": [
      "216\n"
     ]
    }
   ],
   "source": [
    "# 7. What is the output of the following code and what arithmetic operators are used here? print(2 * 3 ** 3 * 4)\n",
    "# The output is 216 and the operators are multiplication and exponentiation"
   ]
  },
  {
   "cell_type": "code",
   "execution_count": null,
   "id": "1bf0bfd7",
   "metadata": {},
   "outputs": [],
   "source": [
    "# 8. What is a text editor?\n",
    "#    a program that allows the user create, change, edit, open and view plain text files\n",
    "# 9. What is python?\n",
    "#    an object oriented, dynamic programming language\n",
    "# 10. What is jupyter notebook, what type of python environment is it, and what alternatives are there to jupyter notebook?\n",
    "#    Jupyter Notebook is a web-based IDE. You could use spyder, pycharm, vscode, and many others.  "
   ]
  }
 ],
 "metadata": {
  "kernelspec": {
   "display_name": "Python 3 (ipykernel)",
   "language": "python",
   "name": "python3"
  },
  "language_info": {
   "codemirror_mode": {
    "name": "ipython",
    "version": 3
   },
   "file_extension": ".py",
   "mimetype": "text/x-python",
   "name": "python",
   "nbconvert_exporter": "python",
   "pygments_lexer": "ipython3",
   "version": "3.9.12"
  }
 },
 "nbformat": 4,
 "nbformat_minor": 5
}
