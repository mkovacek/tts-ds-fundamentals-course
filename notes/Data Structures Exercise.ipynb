{
 "cells": [
  {
   "cell_type": "markdown",
   "id": "872847f2",
   "metadata": {},
   "source": [
    "### Exercise 1"
   ]
  },
  {
   "cell_type": "code",
   "execution_count": 23,
   "id": "4823178a",
   "metadata": {},
   "outputs": [],
   "source": [
    "def solve_quadratic(a,b,c):\n",
    "    x_plus = (-b + (((b**2)-(4*a*c))**.5))/ (2*a)\n",
    "    x_minus =(-b - (((b**2)-(4*a*c))**.5))/ (2*a)\n",
    "    sol = (x_plus,x_minus)\n",
    "    return sol"
   ]
  },
  {
   "cell_type": "code",
   "execution_count": 26,
   "id": "8df84326",
   "metadata": {},
   "outputs": [
    {
     "data": {
      "text/plain": [
       "(2.0, 1.0)"
      ]
     },
     "execution_count": 26,
     "metadata": {},
     "output_type": "execute_result"
    }
   ],
   "source": [
    "solve_quadratic(1,-3,2)"
   ]
  },
  {
   "cell_type": "code",
   "execution_count": 28,
   "id": "620af919",
   "metadata": {},
   "outputs": [
    {
     "data": {
      "text/plain": [
       "(-1.0, -1.0)"
      ]
     },
     "execution_count": 28,
     "metadata": {},
     "output_type": "execute_result"
    }
   ],
   "source": [
    "solve_quadratic(1,2,1)"
   ]
  },
  {
   "cell_type": "markdown",
   "id": "c8052040",
   "metadata": {},
   "source": [
    "### Exercise 2"
   ]
  },
  {
   "cell_type": "code",
   "execution_count": 82,
   "id": "b8f5c7f5",
   "metadata": {},
   "outputs": [],
   "source": [
    "def make_hash():\n",
    "    nums = input(\"Enter a list of numbers separated by spaces: \")\n",
    "    num_list = nums.split(\" \")\n",
    "    int_list = []\n",
    "    for num in num_list:\n",
    "        int_list.append(int(num))\n",
    "        \n",
    "    return hash(tuple(int_list))"
   ]
  },
  {
   "cell_type": "code",
   "execution_count": 84,
   "id": "5ed70555",
   "metadata": {},
   "outputs": [
    {
     "name": "stdout",
     "output_type": "stream",
     "text": [
      "Enter a list of numbers separated by spaces: 1 2\n"
     ]
    },
    {
     "data": {
      "text/plain": [
       "-3550055125485641917"
      ]
     },
     "execution_count": 84,
     "metadata": {},
     "output_type": "execute_result"
    }
   ],
   "source": [
    "make_hash()"
   ]
  },
  {
   "cell_type": "markdown",
   "id": "92ad3ce3",
   "metadata": {},
   "source": [
    "### Exercise 3"
   ]
  },
  {
   "cell_type": "code",
   "execution_count": 91,
   "id": "11f4fa80",
   "metadata": {},
   "outputs": [
    {
     "name": "stdout",
     "output_type": "stream",
     "text": [
      "[4, 6, 12, 12, 20, 18, 28]\n"
     ]
    }
   ],
   "source": [
    "listOne = [3, 6, 9, 12, 15, 18, 21]\n",
    "listTwo = [4, 8, 12, 16, 20, 24, 28]\n",
    "listThree = []\n",
    "#starting i at 1 since 0 is not odd or even\n",
    "i = 0\n",
    "while i < 7:\n",
    "    if i%2 != 0:\n",
    "        listThree.append(listOne[i])\n",
    "    else: \n",
    "        listThree.append(listTwo[i])\n",
    "    i+=1\n",
    "\n",
    "print(listThree)"
   ]
  },
  {
   "cell_type": "markdown",
   "id": "0b21074d",
   "metadata": {},
   "source": [
    "### Exercise 4"
   ]
  },
  {
   "cell_type": "code",
   "execution_count": 122,
   "id": "e056628a",
   "metadata": {
    "scrolled": true
   },
   "outputs": [
    {
     "name": "stdout",
     "output_type": "stream",
     "text": [
      "[8, 45, 11]\n",
      "[12, 14, 23]\n",
      "[89, 45, 78]\n"
     ]
    }
   ],
   "source": [
    "sampleList = [11, 45, 8, 23, 14, 12, 78, 45, 89]\n",
    "\n",
    "list1 = sampleList[0:3][::-1]\n",
    "list2 = sampleList[3:6][::-1]\n",
    "list3 = sampleList[6:9][::-1]\n",
    "\n",
    "print(list1)\n",
    "print(list2)\n",
    "print(list3)"
   ]
  },
  {
   "cell_type": "markdown",
   "id": "08088d7e",
   "metadata": {},
   "source": [
    "### Exercise 5"
   ]
  },
  {
   "cell_type": "code",
   "execution_count": 126,
   "id": "ebe36424",
   "metadata": {},
   "outputs": [
    {
     "data": {
      "text/plain": [
       "[47, 69, 76, 95, 97]"
      ]
     },
     "execution_count": 126,
     "metadata": {},
     "output_type": "execute_result"
    }
   ],
   "source": [
    "rollNumber = [47, 64, 69, 37, 76, 83, 95, 97]\n",
    "sampleDict ={'Zach':47, 'Emma':69, 'Kelly':76, 'Jason':97}\n",
    "\n",
    "for num in rollNumber:\n",
    "    if num not in sampleDict.values():\n",
    "        rollNumber.remove(num)\n",
    "\n",
    "rollNumber"
   ]
  }
 ],
 "metadata": {
  "kernelspec": {
   "display_name": "Python 3 (ipykernel)",
   "language": "python",
   "name": "python3"
  },
  "language_info": {
   "codemirror_mode": {
    "name": "ipython",
    "version": 3
   },
   "file_extension": ".py",
   "mimetype": "text/x-python",
   "name": "python",
   "nbconvert_exporter": "python",
   "pygments_lexer": "ipython3",
   "version": "3.9.12"
  }
 },
 "nbformat": 4,
 "nbformat_minor": 5
}
